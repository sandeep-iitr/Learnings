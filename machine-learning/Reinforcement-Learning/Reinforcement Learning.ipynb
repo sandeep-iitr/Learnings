{
 "cells": [
  {
   "cell_type": "markdown",
   "metadata": {},
   "source": [
    "# Reinforcement Learning\n",
    "\n",
    "##\n",
    "- It is learning with feedback from the environment. \n",
    "- Reinforce activities using rewards.\n",
    "\n",
    "##\n",
    "- Deers are not domesticated, but dogs are ? Humans have not find a way to reinforce the Deers.\n",
    "- Here machines: Say machine wants to win a game.\n",
    "  - Machine has a memory, what it has done so far, and it responds to reward.\n",
    "  \n",
    "## Optimization goal"
   ]
  },
  {
   "cell_type": "markdown",
   "metadata": {},
   "source": [
    "$R_t=r_{t+1}+\\gamma r_{t+2}+ ...$ = $\\sum_{k=0}^{\\inf}\\gamma^k r_{t+k+1}$"
   ]
  },
  {
   "cell_type": "markdown",
   "metadata": {},
   "source": [
    "$\\gamma$ is a discounting factor. Any reward that is k steps away. $\\gamma$ is between 0 and 1."
   ]
  },
  {
   "cell_type": "markdown",
   "metadata": {},
   "source": [
    "$r_{t+1}$ is the reward at $t+i$ time-step"
   ]
  },
  {
   "cell_type": "markdown",
   "metadata": {},
   "source": [
    "The environment of the agent is modelled using Markov Decision Process. (MDP)\n",
    "- Set of states\n",
    "- Set of actions\n",
    "- $P^a_{SS^\\prime}$ = $P(S_{t+1} = S^\\prime | S_t = S, a_t = a)$"
   ]
  },
  {
   "cell_type": "markdown",
   "metadata": {},
   "source": [
    "- $R^a_{SS^\\prime}$ = $E(r_{t+1}| S_t = S, a_t = a,S_{t+1} = S^\\prime)$"
   ]
  },
  {
   "cell_type": "code",
   "execution_count": null,
   "metadata": {
    "collapsed": true
   },
   "outputs": [],
   "source": []
  }
 ],
 "metadata": {
  "kernelspec": {
   "display_name": "Python [conda env:py37]",
   "language": "python",
   "name": "conda-env-py37-py"
  },
  "language_info": {
   "codemirror_mode": {
    "name": "ipython",
    "version": 3
   },
   "file_extension": ".py",
   "mimetype": "text/x-python",
   "name": "python",
   "nbconvert_exporter": "python",
   "pygments_lexer": "ipython3",
   "version": "3.5.4"
  }
 },
 "nbformat": 4,
 "nbformat_minor": 2
}
