{
 "cells": [
  {
   "cell_type": "markdown",
   "metadata": {},
   "source": [
    "# Load Data, and separately load the categories and Labels"
   ]
  },
  {
   "cell_type": "code",
   "execution_count": 3,
   "metadata": {},
   "outputs": [
    {
     "name": "stdout",
     "output_type": "stream",
     "text": [
      "[[0.951785695971921, 0.669569988269359, 0.170130254933611, 0.623469153884798, 0.925886165117845, 0.81268464284949], [0.51044699898921, 0.922627209918573, 0.0878990164492279, 0.0254153392743319, 0.698443632107228, 0.658544838894159]]\n",
      "['green', 'red']\n",
      "['white', 'white']\n",
      "[3.70751388051659, 2.68924255693664]\n"
     ]
    }
   ],
   "source": [
    "import csv\n",
    "data_r=[]\n",
    "data_c=[]\n",
    "data_h=[]\n",
    "label_list=[]\n",
    "with open('intern_data.csv') as csvfile:\n",
    "    reader = csv.DictReader(csvfile)\n",
    "    for row in reader:\n",
    "        #print(row['a'], row['b'],row['c'],row['d'])\n",
    "        \n",
    "        data_r.append([float(row['a']), float(row['b']),float(row['d']),float(row['e']),float(row['f']),float(row['g'])])\n",
    "        data_c.append(row['c'])\n",
    "        data_h.append(row['h'])\n",
    "        label_list.append(float(row['y']))\n",
    "print(data_r[:2])\n",
    "print(data_c[:2])\n",
    "print(data_h[:2])\n",
    "print(label_list[:2])"
   ]
  },
  {
   "cell_type": "markdown",
   "metadata": {},
   "source": [
    "# Using one hot encoding for Categories"
   ]
  },
  {
   "cell_type": "code",
   "execution_count": 5,
   "metadata": {},
   "outputs": [
    {
     "name": "stdout",
     "output_type": "stream",
     "text": [
      "----------------------------------------------------------------------------------------------------\n",
      "Hot encoding c attribute\n",
      "----------------------------------------------------------------------------------------------------\n",
      "----------------------------------------------------------------------------------------------------\n",
      "['green' 'red' 'yellow' 'green' 'red' 'blue' 'yellow' 'green' 'green'\n",
      " 'green']\n",
      "[1 2 3 1 2 0 3 1 1 1]\n",
      "[[ 0.  1.  0.  0.]\n",
      " [ 0.  0.  1.  0.]\n",
      " [ 0.  0.  0.  1.]\n",
      " [ 0.  1.  0.  0.]\n",
      " [ 0.  0.  1.  0.]\n",
      " [ 1.  0.  0.  0.]\n",
      " [ 0.  0.  0.  1.]\n",
      " [ 0.  1.  0.  0.]\n",
      " [ 0.  1.  0.  0.]\n",
      " [ 0.  1.  0.  0.]]\n",
      "----------------------------------------------------------------------------------------------------\n",
      "----------------------------------------------------------------------------------------------------\n",
      "Hot encoding h attribute\n",
      "----------------------------------------------------------------------------------------------------\n",
      "----------------------------------------------------------------------------------------------------\n",
      "['white' 'white' 'black' 'black' 'white' 'white' 'white' 'white' 'white'\n",
      " 'white']\n",
      "[1 1 0 0 1 1 1 1 1 1]\n",
      "[[ 0.  1.]\n",
      " [ 0.  1.]\n",
      " [ 1.  0.]\n",
      " [ 1.  0.]\n",
      " [ 0.  1.]\n",
      " [ 0.  1.]\n",
      " [ 0.  1.]\n",
      " [ 0.  1.]\n",
      " [ 0.  1.]\n",
      " [ 0.  1.]]\n",
      "----------------------------------------------------------------------------------------------------\n"
     ]
    }
   ],
   "source": [
    "from numpy import array\n",
    "from numpy import argmax\n",
    "from sklearn.preprocessing import LabelEncoder\n",
    "from sklearn.preprocessing import OneHotEncoder\n",
    "\n",
    "values_c = array(data_c)\n",
    "print('-'*100)\n",
    "print('Hot encoding c attribute')\n",
    "print('-'*100)\n",
    "print('-'*100)\n",
    "print(values_c[:10])\n",
    "# integer encode\n",
    "label_encoder = LabelEncoder()\n",
    "integer_encoded_c = label_encoder.fit_transform(values_c)\n",
    "print(integer_encoded_c[:10])\n",
    "# binary encode\n",
    "onehot_encoder = OneHotEncoder(sparse=False)\n",
    "\n",
    "#chaging the shape to a single column from row\n",
    "integer_encoded_c = integer_encoded_c.reshape(len(integer_encoded_c), 1)\n",
    "\n",
    "onehot_encoded_c = onehot_encoder.fit_transform(integer_encoded_c)\n",
    "print(onehot_encoded_c[:10])\n",
    "#inverted = label_encoder.inverse_transform([argmax(onehot_encoded[0, :])])\n",
    "#print(inverted)\n",
    "\n",
    "print('-'*100)\n",
    "\n",
    "\n",
    "values_h = array(data_h)\n",
    "print('-'*100)\n",
    "print('Hot encoding h attribute')\n",
    "print('-'*100)\n",
    "print('-'*100)\n",
    "print(values_h[:10])\n",
    "# integer encode\n",
    "label_encoder = LabelEncoder()\n",
    "integer_encoded_h = label_encoder.fit_transform(values_h)\n",
    "print(integer_encoded_h[:10])\n",
    "# binary encode\n",
    "\n",
    "#chaging the shape to a single column from row\n",
    "integer_encoded_h = integer_encoded_h.reshape(len(integer_encoded_h), 1)\n",
    "onehot_encoded_h = onehot_encoder.fit_transform(integer_encoded_h)\n",
    "print(onehot_encoded_h[:10])\n",
    "#inverted = label_encoder.inverse_transform([argmax(onehot_encoded[0, :])])\n",
    "#print(inverted)\n",
    "\n",
    "print('-'*100)"
   ]
  },
  {
   "cell_type": "markdown",
   "metadata": {},
   "source": [
    "# Concatenating data with one hot encoded categories and converting data and labels to numpy arrays"
   ]
  },
  {
   "cell_type": "code",
   "execution_count": 7,
   "metadata": {},
   "outputs": [
    {
     "name": "stdout",
     "output_type": "stream",
     "text": [
      "Data:\n",
      "[[ 0.9517857   0.66956999  0.17013025  0.62346915  0.92588617  0.81268464\n",
      "   0.          1.          0.          0.          0.          1.        ]\n",
      " [ 0.510447    0.92262721  0.08789902  0.02541534  0.69844363  0.65854484\n",
      "   0.          0.          1.          0.          0.          1.        ]]\n",
      "Label:\n",
      "[ 3.70751388  2.68924256]\n"
     ]
    }
   ],
   "source": [
    "import numpy as np\n",
    "data_arr=np.array(data_r)\n",
    "#print(data_arr[:2])\n",
    "\n",
    "data = np.concatenate((data_arr,onehot_encoded_c, onehot_encoded_h), axis=1)\n",
    "print('Data:')\n",
    "print(data[:2])\n",
    "label=np.array(label_list)\n",
    "print('Label:')\n",
    "print(label[:2])"
   ]
  },
  {
   "cell_type": "markdown",
   "metadata": {},
   "source": [
    "# Using Ridge Regression\n",
    "- Split data into training and test\n",
    "- Use 5 fold cross validation on the training\n",
    "- Use polynomial features to select the appropriate degree\n",
    "- Use the different value of alphas"
   ]
  },
  {
   "cell_type": "code",
   "execution_count": 50,
   "metadata": {
    "scrolled": true
   },
   "outputs": [
    {
     "name": "stdout",
     "output_type": "stream",
     "text": [
      "--------------------------------------------------------------------------------------------------------------------------------------------------------------------------------------------------------\n",
      "degree: 1\n",
      "Done\n",
      "--------------------------------------------------------------------------------------------------------------------------------------------------------------------------------------------------------\n",
      "degree: 2\n",
      "Done\n",
      "--------------------------------------------------------------------------------------------------------------------------------------------------------------------------------------------------------\n",
      "degree: 3\n",
      "Done\n",
      "--------------------------------------------------------------------------------------------------------------------------------------------------------------------------------------------------------\n",
      "degree: 4\n",
      "Done\n",
      "--------------------------------------------------------------------------------------------------------------------------------------------------------------------------------------------------------\n",
      "degree: 5\n",
      "Done\n",
      "Scores [0.9740935629821118, 0.97212903852980492, 0.97170233519825822, 0.96766327081597248, 0.9646213376566779]\n"
     ]
    }
   ],
   "source": [
    "import numpy as np\n",
    "from sklearn.model_selection import train_test_split\n",
    "from sklearn.linear_model import RidgeCV \n",
    "from sklearn.metrics import mean_squared_error, r2_score\n",
    "\n",
    "# Random sample of the data for the Test is kept\n",
    "X_train, X_test, y_train, y_test = train_test_split(\n",
    "    data, label, test_size=0.25, random_state=0)\n",
    "\n",
    "\n",
    "from sklearn.linear_model import Ridge\n",
    "from sklearn.preprocessing import PolynomialFeatures\n",
    "from sklearn.pipeline import make_pipeline\n",
    "from sklearn.model_selection import cross_val_score\n",
    "\n",
    "degrees=[1, 2, 3, 4, 5]\n",
    "scores = list()\n",
    "for degree in degrees:\n",
    "    print('-'*200)\n",
    "    print('degree:',degree)\n",
    "    model = make_pipeline(PolynomialFeatures(degree,include_bias=True), RidgeCV(alphas=[0.001,0.01,0.1,1,10,100],fit_intercept=True,cv=4))\n",
    "    score = cross_val_score(model, X_train, y_train, cv=4)\n",
    "    #print('Scores on different training sets:',score)\n",
    "    model.fit(X_train, y_train)\n",
    "    pred = model.predict(X_test)\n",
    "    # The mean squared error\n",
    "    #print(\"Mean squared error on test: %.2f\"  % mean_squared_error(y_test, pred))\n",
    "    # Explained variance score: 1 is perfect prediction\n",
    "    score=r2_score(y_test, pred)\n",
    "    #print('Variance score on test: %.4f' % score)\n",
    "    #print('Variance score on test: %.4f' % model.score(X_test, y_test))\n",
    "    scores.append(score)\n",
    "    #print('Sample y_test:',y_test[:5])\n",
    "    #print('Sample pred:  ',pred[:5])\n",
    "    print('Done')\n",
    "    \n",
    "print('Scores',scores)    "
   ]
  },
  {
   "cell_type": "markdown",
   "metadata": {},
   "source": [
    "# Using best parameters for the classifier: Ridge Regression"
   ]
  },
  {
   "cell_type": "code",
   "execution_count": 56,
   "metadata": {},
   "outputs": [
    {
     "name": "stdout",
     "output_type": "stream",
     "text": [
      "Scores on different training sets: [ 0.96934026  0.96531253  0.96973964  0.97079496]\n",
      "Mean squared error on test: 0.01\n",
      "Variance score on test: 0.9741\n",
      "Sample y_test: [ 2.85508529  2.94973971  2.75635373  1.96371667  3.3201863 ]\n",
      "Sample pred:   [ 2.90649916  2.95732474  2.75024203  2.07445605  3.22967906]\n"
     ]
    }
   ],
   "source": [
    "# Running on best parameters for the classifier\n",
    "\n",
    "deg_index=scores.index(max(scores))\n",
    "degree=degrees[deg_index]\n",
    "model_best = make_pipeline(PolynomialFeatures(degree,include_bias=True), RidgeCV(alphas=[0.001,0.01,0.1,1,10,100],fit_intercept=True,cv=4))\n",
    "score = cross_val_score(model, X_train, y_train, cv=4)\n",
    "print('Scores on different training sets:',score)\n",
    "model_best.fit(X_train, y_train)\n",
    "pred = model_best.predict(X_test)\n",
    "# The mean squared error\n",
    "print(\"Mean squared error on test: %.2f\"  % mean_squared_error(y_test, pred))\n",
    "# Explained variance score: 1 is perfect prediction\n",
    "score=r2_score(y_test, pred)\n",
    "print('Variance score on test: %.4f' % score)\n",
    "#print('Variance score on test: %.4f' % model_best.score(X_test, y_test))\n",
    "\n",
    "print('Sample y_test:',y_test[:5])\n",
    "print('Sample pred:  ',pred[:5])\n",
    "\n",
    "# Outputting the Result on the "
   ]
  },
  {
   "cell_type": "code",
   "execution_count": null,
   "metadata": {
    "collapsed": true
   },
   "outputs": [],
   "source": []
  }
 ],
 "metadata": {
  "kernelspec": {
   "display_name": "Python [conda env:py37]",
   "language": "python",
   "name": "conda-env-py37-py"
  },
  "language_info": {
   "codemirror_mode": {
    "name": "ipython",
    "version": 3
   },
   "file_extension": ".py",
   "mimetype": "text/x-python",
   "name": "python",
   "nbconvert_exporter": "python",
   "pygments_lexer": "ipython3",
   "version": "3.5.4"
  }
 },
 "nbformat": 4,
 "nbformat_minor": 2
}
