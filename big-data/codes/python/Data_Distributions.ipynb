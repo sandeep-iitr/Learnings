{
 "cells": [
  {
   "cell_type": "code",
   "execution_count": 13,
   "metadata": {},
   "outputs": [
    {
     "name": "stdout",
     "output_type": "stream",
     "text": [
      "[  9.68584498   3.33367857  14.26415833   7.78190954   9.18090746\n",
      "  18.97070055  -2.37365002   9.44218934   8.62891953   8.33792569\n",
      "  -0.73787841  -4.56218954  -1.84632488  10.01588208  19.57584323\n",
      "   5.11594159  27.39131359   7.55576604  15.58633886 -11.80770956\n",
      "   8.44722858  18.98144997  17.5818516   29.92785994  38.20122752\n",
      "  12.40681406  23.19123983  24.37809734  17.3280067   14.05051571\n",
      "  -2.22279584   9.37495983  34.85021126  10.96306015  16.54113025\n",
      "   9.43212918  18.65570429  10.93463353  14.96485648   8.59482519\n",
      "   1.38061006   4.10675595   8.62450466   8.12245171  -7.92950127\n",
      "   3.88817183   2.00013348  15.73086793   3.36263952  17.3498632\n",
      "  20.34578124  24.05013263  16.38598063   8.79067439  21.37531036\n",
      "  16.20116451  12.84828395  23.59212202   2.32529787  30.88290529\n",
      "   8.17717181  27.82829712  18.72192289  -3.70681973  14.00070309\n",
      "  23.71393202  11.78373145  13.51296403   1.71210955  18.27245661\n",
      "   5.66671912   9.90231002  -1.69035284  18.7645279    4.23673693\n",
      "  20.14527192   4.02557377  15.68040088  -7.74265     -4.60857544\n",
      "  13.1873012   24.81654922  -1.04385087  11.25293849   3.51144161\n",
      "  27.22367778   2.35371792  -2.44467969  -7.14220126   2.19422388\n",
      "  -2.98027359  18.11559665   0.98420628  28.44398587   7.07485241\n",
      "   8.1114536    0.19096184   7.56710498  21.79558539  13.67868872]\n"
     ]
    },
    {
     "data": {
      "image/png": "[encoded data removed]",
      "text/plain": [
       "<matplotlib.figure.Figure at 0x7fcfcc423208>"
      ]
     },
     "metadata": {},
     "output_type": "display_data"
    }
   ],
   "source": [
    "import matplotlib.pyplot as plt\n",
    "import numpy as np\n",
    "\n",
    "inlier = np.random.normal(10, 1, 100)\n",
    "\n",
    "print(s)\n",
    "\n",
    "plt.hist(s)\n",
    "plt.show()"
   ]
  },
  {
   "cell_type": "code",
   "execution_count": null,
   "metadata": {},
   "outputs": [],
   "source": []
  }
 ],
 "metadata": {
  "kernelspec": {
   "display_name": "Python [conda env:test_conda]",
   "language": "python",
   "name": "conda-env-test_conda-py"
  },
  "language_info": {
   "codemirror_mode": {
    "name": "ipython",
    "version": 3
   },
   "file_extension": ".py",
   "mimetype": "text/x-python",
   "name": "python",
   "nbconvert_exporter": "python",
   "pygments_lexer": "ipython3",
   "version": "3.6.4"
  }
 },
 "nbformat": 4,
 "nbformat_minor": 2
}
