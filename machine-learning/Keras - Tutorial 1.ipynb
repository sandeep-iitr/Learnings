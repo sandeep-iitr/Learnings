{
 "cells": [
  {
   "cell_type": "markdown",
   "metadata": {},
   "source": [
    "# Keras - Preprocess Data"
   ]
  },
  {
   "cell_type": "code",
   "execution_count": 164,
   "metadata": {
    "collapsed": true
   },
   "outputs": [],
   "source": [
    "import numpy as np\n",
    "from random import randint\n",
    "from sklearn.preprocessing import MinMaxScaler"
   ]
  },
  {
   "cell_type": "code",
   "execution_count": 175,
   "metadata": {
    "collapsed": true
   },
   "outputs": [],
   "source": [
    "train_labels=[]\n",
    "train_samples=[]"
   ]
  },
  {
   "cell_type": "markdown",
   "metadata": {},
   "source": [
    "# Fake Data:\n",
    "- Younger : healthy\n",
    "- Older: diseased\n",
    "- with some errors in the data"
   ]
  },
  {
   "cell_type": "code",
   "execution_count": 176,
   "metadata": {},
   "outputs": [],
   "source": [
    "\n",
    "for i in range(50):\n",
    "    random_younger=randint(13,64)\n",
    "    train_samples.append(random_younger)\n",
    "    train_labels.append(1)\n",
    "    \n",
    "    random_older=randint(65,100)\n",
    "    train_samples.append(random_older)\n",
    "    train_labels.append(0) \n",
    "    \n",
    "\n",
    "for i in range(4000):\n",
    "    random_younger=randint(13,64)\n",
    "    train_samples.append(random_younger)\n",
    "    train_labels.append(0)\n",
    "    \n",
    "    random_older=randint(65,100)\n",
    "    train_samples.append(random_older)\n",
    "    train_labels.append(1)\n",
    "  "
   ]
  },
  {
   "cell_type": "code",
   "execution_count": 8,
   "metadata": {},
   "outputs": [],
   "source": [
    "#for i in train_samples:\n",
    "#    print(i)"
   ]
  },
  {
   "cell_type": "code",
   "execution_count": 177,
   "metadata": {
    "collapsed": true
   },
   "outputs": [],
   "source": [
    "train_labels=np.array(train_labels)\n",
    "train_samples=np.array(train_samples)"
   ]
  },
  {
   "cell_type": "code",
   "execution_count": 178,
   "metadata": {},
   "outputs": [
    {
     "name": "stderr",
     "output_type": "stream",
     "text": [
      "/Users/administrator/anaconda3/envs/py37/lib/python3.5/site-packages/sklearn/utils/validation.py:475: DataConversionWarning: Data with input dtype int64 was converted to float64 by MinMaxScaler.\n",
      "  warnings.warn(msg, DataConversionWarning)\n"
     ]
    }
   ],
   "source": [
    "scaler = MinMaxScaler(feature_range=(0,1))\n",
    "scaled_train_sample=scaler.fit_transform((train_samples).reshape(-1,1))"
   ]
  },
  {
   "cell_type": "code",
   "execution_count": 12,
   "metadata": {},
   "outputs": [],
   "source": [
    "#for i in scaled_train_sample:\n",
    "#    print(i)"
   ]
  },
  {
   "cell_type": "code",
   "execution_count": 179,
   "metadata": {},
   "outputs": [
    {
     "name": "stdout",
     "output_type": "stream",
     "text": [
      "(8100,)\n",
      "(8100, 1)\n",
      "(8100, 1)\n"
     ]
    }
   ],
   "source": [
    "print (train_samples.shape)\n",
    "print (train_samples.reshape(-1,1).shape)\n",
    "print (scaled_train_sample.reshape(-1,1).shape)"
   ]
  },
  {
   "cell_type": "markdown",
   "metadata": {},
   "source": [
    "# Kera Libaries"
   ]
  },
  {
   "cell_type": "code",
   "execution_count": 180,
   "metadata": {},
   "outputs": [],
   "source": [
    "import keras\n",
    "from keras import backend as K\n",
    "from keras.models import Sequential\n",
    "from keras.layers import Activation\n",
    "from keras.layers.core import Dense\n",
    "from keras.optimizers import Adam\n",
    "from keras.metrics import categorical_crossentropy"
   ]
  },
  {
   "cell_type": "code",
   "execution_count": 181,
   "metadata": {},
   "outputs": [],
   "source": [
    "model = Sequential([\n",
    "    \n",
    "    Dense(16,input_shape=(1,), activation='relu'),\n",
    "    Dense(32,activation='relu'),\n",
    "    Dense(2,activation='softmax')\n",
    "])"
   ]
  },
  {
   "cell_type": "code",
   "execution_count": 182,
   "metadata": {},
   "outputs": [
    {
     "name": "stdout",
     "output_type": "stream",
     "text": [
      "_________________________________________________________________\n",
      "Layer (type)                 Output Shape              Param #   \n",
      "=================================================================\n",
      "dense_110 (Dense)            (None, 16)                32        \n",
      "_________________________________________________________________\n",
      "dense_111 (Dense)            (None, 32)                544       \n",
      "_________________________________________________________________\n",
      "dense_112 (Dense)            (None, 2)                 66        \n",
      "=================================================================\n",
      "Total params: 642\n",
      "Trainable params: 642\n",
      "Non-trainable params: 0\n",
      "_________________________________________________________________\n"
     ]
    }
   ],
   "source": [
    "model.summary()"
   ]
  },
  {
   "cell_type": "code",
   "execution_count": 183,
   "metadata": {},
   "outputs": [],
   "source": [
    "model.compile(Adam(lr=0.001),loss='sparse_categorical_crossentropy',metrics=['accuracy'])"
   ]
  },
  {
   "cell_type": "code",
   "execution_count": null,
   "metadata": {
    "scrolled": true
   },
   "outputs": [
    {
     "name": "stdout",
     "output_type": "stream",
     "text": [
      "Train on 6480 samples, validate on 1620 samples\n",
      "Epoch 1/20\n",
      "6480/6480 [==============================] - 3s 530us/step - loss: 0.3361 - acc: 0.8519 - val_loss: 0.0933 - val_acc: 0.9815\n",
      "Epoch 2/20\n",
      "6480/6480 [==============================] - 2s 362us/step - loss: 0.1371 - acc: 0.9747 - val_loss: 0.0610 - val_acc: 0.9907\n",
      "Epoch 3/20\n",
      "6480/6480 [==============================] - 2s 362us/step - loss: 0.1268 - acc: 0.9764 - val_loss: 0.0545 - val_acc: 0.9815\n",
      "Epoch 4/20\n",
      "6480/6480 [==============================] - 2s 363us/step - loss: 0.1232 - acc: 0.9772 - val_loss: 0.0501 - val_acc: 0.9907\n",
      "Epoch 5/20\n",
      "6040/6480 [==========================>...] - ETA: 0s - loss: 0.1197 - acc: 0.9776"
     ]
    }
   ],
   "source": [
    "model.fit(scaled_train_sample,train_labels,validation_split=0.2,batch_size=10,epochs=20,shuffle=True)"
   ]
  },
  {
   "cell_type": "code",
   "execution_count": 121,
   "metadata": {},
   "outputs": [],
   "source": [
    "# model.evaluate(scaled_train_sample,train_labels)"
   ]
  },
  {
   "cell_type": "code",
   "execution_count": 122,
   "metadata": {},
   "outputs": [],
   "source": [
    "# model.layers[0].trainable = True\n",
    "# model.layers[1].trainable = True\n",
    "# model.layers[2].trainable = True\n",
    "# model.layers[3].trainable = True\n",
    "# model.layers[4].trainable = True\n",
    "# model.layers[5].trainable = True\n",
    "# model.summary()"
   ]
  },
  {
   "cell_type": "code",
   "execution_count": 123,
   "metadata": {},
   "outputs": [],
   "source": [
    "\n",
    "# model = Sequential([\n",
    "    \n",
    "#     Dense(16,input_shape=(1,), activation='relu'),\n",
    "#     Dense(32,activation='relu'),\n",
    "#     Dense(32,activation='relu'),\n",
    "#     Dense(32,activation='relu'),\n",
    "#     Dense(32,activation='relu'),\n",
    "#     Dense(32,activation='relu'),\n",
    "#     Dense(32,activation='relu'),\n",
    "#     Dense(32,activation='relu'),\n",
    "#     Dense(2,activation='softmax')\n",
    "# ])\n",
    "# model.compile(Adam(lr=0.001),loss='sparse_categorical_crossentropy',metrics=['accuracy'])\n",
    "\n",
    "# model.fit(scaled_train_sample,train_labels,batch_size=1,epochs=200,shuffle=True)"
   ]
  },
  {
   "cell_type": "code",
   "execution_count": 124,
   "metadata": {},
   "outputs": [],
   "source": [
    "# model = Sequential([\n",
    "    \n",
    "#     Dense(16,input_shape=(1,), activation='relu'),\n",
    "#     Dense(32,activation='relu'),\n",
    "#     Dense(32,activation='relu'),\n",
    "#     Dense(32,activation='relu'),\n",
    "#     Dense(32,activation='relu'),\n",
    "#     Dense(2,activation='softmax')\n",
    "# ])\n",
    "# model.compile(Adam(lr=0.001),loss='sparse_categorical_crossentropy',metrics=['accuracy'])\n",
    "\n",
    "# model.fit(scaled_train_sample,train_labels,batch_size=20,epochs=20,shuffle=True)\n"
   ]
  },
  {
   "cell_type": "code",
   "execution_count": null,
   "metadata": {
    "collapsed": true
   },
   "outputs": [],
   "source": []
  }
 ],
 "metadata": {
  "kernelspec": {
   "display_name": "Python [conda env:py37]",
   "language": "python",
   "name": "conda-env-py37-py"
  },
  "language_info": {
   "codemirror_mode": {
    "name": "ipython",
    "version": 3
   },
   "file_extension": ".py",
   "mimetype": "text/x-python",
   "name": "python",
   "nbconvert_exporter": "python",
   "pygments_lexer": "ipython3",
   "version": "3.5.4"
  }
 },
 "nbformat": 4,
 "nbformat_minor": 2
}
