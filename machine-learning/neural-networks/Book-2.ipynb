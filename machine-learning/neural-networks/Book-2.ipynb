{
 "cells": [
  {
   "cell_type": "markdown",
   "metadata": {},
   "source": [
    "# MNIST neural network: With Convolution layers\n",
    "- Sigmoid\n",
    "- 5 convolution layers"
   ]
  },
  {
   "cell_type": "code",
   "execution_count": 15,
   "metadata": {},
   "outputs": [
    {
     "name": "stdout",
     "output_type": "stream",
     "text": [
      "Extracting data/train-images-idx3-ubyte.gz\n",
      "Extracting data/train-labels-idx1-ubyte.gz\n",
      "Extracting data/t10k-images-idx3-ubyte.gz\n",
      "Extracting data/t10k-labels-idx1-ubyte.gz\n"
     ]
    }
   ],
   "source": [
    "import tensorflow as tf\n",
    "from tensorflow.examples.tutorials.mnist import input_data\n",
    "mnist = input_data.read_data_sets(\"data\", one_hot=True, reshape=False, validation_size=0)"
   ]
  },
  {
   "cell_type": "code",
   "execution_count": 29,
   "metadata": {
    "collapsed": true
   },
   "outputs": [],
   "source": [
    "# neural network with 5 layers\n",
    "#\n",
    "# · · · · · · · · · ·          (input data, flattened pixels)       X [batch, 784]   # 784 = 28*28\n",
    "# \\x/x\\x/x\\x/x\\x/x\\x/       -- fully connected layer (sigmoid)      W1 [784, 200]      B1[200]\n",
    "#  · · · · · · · · ·                                                Y1 [batch, 200]\n",
    "#   \\x/x\\x/x\\x/x\\x/         -- fully connected layer (sigmoid)      W2 [200, 100]      B2[100]\n",
    "#    · · · · · · ·                                                  Y2 [batch, 100]\n",
    "#     \\x/x\\x/x\\x/           -- fully connected layer (sigmoid)      W3 [100, 60]       B3[60]\n",
    "#      · · · · ·                                                    Y3 [batch, 60]\n",
    "#       \\x/x\\x/             -- fully connected layer (sigmoid)      W4 [60, 30]        B4[30]\n",
    "#        · · ·                                                      Y4 [batch, 30]\n",
    "#         \\x/               -- fully connected layer (softmax)      W5 [30, 10]        B5[10]\n",
    "#          ·                                                        Y5 [batch, 10]"
   ]
  },
  {
   "cell_type": "code",
   "execution_count": 16,
   "metadata": {
    "collapsed": true
   },
   "outputs": [],
   "source": [
    "L=200\n",
    "M=100\n",
    "N=60\n",
    "O=30\n",
    "\n",
    "W1=tf.Variable(tf.truncated_normal([28*28,L],stddev=0.1))\n",
    "B1=tf.Variable(tf.zeros([L]))\n",
    "\n",
    "W2=tf.Variable(tf.truncated_normal([L,M],stddev=0.1))\n",
    "B2=tf.Variable(tf.zeros([M]))\n",
    "\n",
    "W3=tf.Variable(tf.truncated_normal([M,N],stddev=0.1))\n",
    "B3=tf.Variable(tf.zeros([N]))\n",
    "\n",
    "W4=tf.Variable(tf.truncated_normal([N,O],stddev=0.1))\n",
    "B4=tf.Variable(tf.zeros([O]))\n",
    "\n",
    "W5=tf.Variable(tf.truncated_normal([O,10],stddev=0.1))\n",
    "B5=tf.Variable(tf.zeros([10]))\n",
    "\n",
    "\n",
    "X=tf.placeholder(tf.float32,[None, 28,28,1])\n",
    "xx = tf.reshape(X,[-1,28*28])\n",
    "\n",
    "Y1=tf.nn.softmax(tf.matmul(xx,W1)+B1)\n",
    "Y2=tf.nn.softmax(tf.matmul(Y1,W2)+B2)\n",
    "Y3=tf.nn.softmax(tf.matmul(Y2,W3)+B3)\n",
    "Y4=tf.nn.softmax(tf.matmul(Y3,W4)+B4)\n",
    "Ylogits = tf.matmul(Y4, W5) + B5\n",
    "Y = tf.nn.softmax(Ylogits)\n"
   ]
  },
  {
   "cell_type": "code",
   "execution_count": 17,
   "metadata": {},
   "outputs": [],
   "source": [
    "Y_ = tf.placeholder(tf.float32,[None,10])\n",
    "cross_entropy = tf.nn.softmax_cross_entropy_with_logits(logits=Ylogits, labels=Y_)\n",
    "cross_entropy = tf.reduce_mean(cross_entropy)*100"
   ]
  },
  {
   "cell_type": "code",
   "execution_count": 18,
   "metadata": {
    "collapsed": true
   },
   "outputs": [],
   "source": [
    "is_correct=tf.equal(tf.argmax(Y,1),tf.argmax(Y_,1))\n",
    "accuracy=tf.reduce_mean(tf.cast(is_correct,tf.float32))"
   ]
  },
  {
   "cell_type": "code",
   "execution_count": 19,
   "metadata": {
    "collapsed": true
   },
   "outputs": [],
   "source": [
    "# training step, learning rate = 0.003\n",
    "learning_rate = 0.003\n",
    "train_step = tf.train.AdamOptimizer(learning_rate).minimize(cross_entropy)"
   ]
  },
  {
   "cell_type": "code",
   "execution_count": 20,
   "metadata": {
    "collapsed": true
   },
   "outputs": [],
   "source": [
    "# init\n",
    "init = tf.global_variables_initializer()\n",
    "sess = tf.Session()\n",
    "sess.run(init)"
   ]
  },
  {
   "cell_type": "code",
   "execution_count": null,
   "metadata": {},
   "outputs": [],
   "source": [
    "import matplotlib.pyplot as plt\n",
    "plt.ion()\n",
    "\n",
    "fig1=plt.figure(1)\n",
    "fig2=plt.figure(2)\n",
    "\n",
    "ax = fig1.add_subplot(111)\n",
    "ay = fig2.add_subplot(111)\n",
    "\n",
    "\n",
    "index=[]\n",
    "accuracy_train=[]\n",
    "accuracy_test=[]\n",
    "loss_train=[]\n",
    "loss_test=[]\n",
    "\n",
    "saver = tf.train.Saver()\n",
    "\n",
    "#Restoring the Model\n",
    "saver.restore(sess, \"book2/book2.ckpt\")\n",
    "\n",
    "for i in range(1,1000000):\n",
    "    batch_X,batch_Y=mnist.train.next_batch(1000)\n",
    "    train_data={X:batch_X,Y_:batch_Y}\n",
    "    sess.run(train_step,feed_dict=train_data)\n",
    "    \n",
    "    #Save the model, after every 1000 iteration\n",
    "    if i%1000==0:\n",
    "        save_path = saver.save(sess, \"book2/book2.ckpt\")\n",
    "        print(\"Model saved in path: %s\" % save_path)\n",
    "    \n",
    "    if i%10==0:\n",
    "        a,c=sess.run([accuracy,cross_entropy],feed_dict=train_data)\n",
    "        index.append(i)\n",
    "        accuracy_train.append(a)\n",
    "        loss_train.append(c)\n",
    "        \n",
    "    #print(str(i) + \"Train: accuracy:\" + str(a) + \" loss: \" + str(c))\n",
    "    \n",
    "    test_data={X:mnist.test.images,Y_:mnist.test.labels}\n",
    "    a,c=sess.run([accuracy,cross_entropy],feed_dict=test_data)\n",
    "    if i%10==0:\n",
    "        #print(str(i) + \" : accuracy:\" + str(a) + \" loss: \" + str(c))\n",
    "        accuracy_test.append(a)\n",
    "        loss_test.append(c)\n",
    "    \n",
    "    if(i%100==0):\n",
    "        plt.clf()\n",
    "        plt.title(\"Accuracy\")\n",
    "        plt.plot(index,accuracy_test)\n",
    "        plt.plot(index,accuracy_train)\n",
    "        plt.show()\n",
    "        \n",
    "        plt.clf()\n",
    "        plt.title(\"Loss\")\n",
    "        plt.plot(index,loss_test)\n",
    "        plt.plot(index,loss_train)\n",
    "        plt.show()\n",
    "        \n",
    "        \n",
    "    \n",
    "    #print(\"b is:\")\n",
    "    #print (sess.run(b))\n",
    "    #print(\"W is:\")\n",
    "    #print (sess.run(W))"
   ]
  },
  {
   "cell_type": "code",
   "execution_count": null,
   "metadata": {
    "collapsed": true
   },
   "outputs": [],
   "source": []
  }
 ],
 "metadata": {
  "kernelspec": {
   "display_name": "Python [conda env:py37]",
   "language": "python",
   "name": "conda-env-py37-py"
  },
  "language_info": {
   "codemirror_mode": {
    "name": "ipython",
    "version": 3
   },
   "file_extension": ".py",
   "mimetype": "text/x-python",
   "name": "python",
   "nbconvert_exporter": "python",
   "pygments_lexer": "ipython3",
   "version": "3.5.4"
  }
 },
 "nbformat": 4,
 "nbformat_minor": 2
}
