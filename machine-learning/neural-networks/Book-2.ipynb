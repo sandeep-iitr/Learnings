{
 "cells": [
  {
   "cell_type": "markdown",
   "metadata": {},
   "source": [
    "# MNIST neural network: With Convolution layers\n",
    "- Sigmoid\n",
    "- 5 convolution layers"
   ]
  },
  {
   "cell_type": "code",
   "execution_count": 1,
   "metadata": {},
   "outputs": [
    {
     "name": "stdout",
     "output_type": "stream",
     "text": [
      "Extracting data/train-images-idx3-ubyte.gz\n",
      "Extracting data/train-labels-idx1-ubyte.gz\n",
      "Extracting data/t10k-images-idx3-ubyte.gz\n",
      "Extracting data/t10k-labels-idx1-ubyte.gz\n"
     ]
    }
   ],
   "source": [
    "import tensorflow as tf\n",
    "from tensorflow.examples.tutorials.mnist import input_data\n",
    "mnist = input_data.read_data_sets(\"data\", one_hot=True, reshape=False, validation_size=0)"
   ]
  },
  {
   "cell_type": "code",
   "execution_count": 29,
   "metadata": {
    "collapsed": true
   },
   "outputs": [],
   "source": [
    "# neural network with 5 layers\n",
    "#\n",
    "# · · · · · · · · · ·          (input data, flattened pixels)       X [batch, 784]   # 784 = 28*28\n",
    "# \\x/x\\x/x\\x/x\\x/x\\x/       -- fully connected layer (sigmoid)      W1 [784, 200]      B1[200]\n",
    "#  · · · · · · · · ·                                                Y1 [batch, 200]\n",
    "#   \\x/x\\x/x\\x/x\\x/         -- fully connected layer (sigmoid)      W2 [200, 100]      B2[100]\n",
    "#    · · · · · · ·                                                  Y2 [batch, 100]\n",
    "#     \\x/x\\x/x\\x/           -- fully connected layer (sigmoid)      W3 [100, 60]       B3[60]\n",
    "#      · · · · ·                                                    Y3 [batch, 60]\n",
    "#       \\x/x\\x/             -- fully connected layer (sigmoid)      W4 [60, 30]        B4[30]\n",
    "#        · · ·                                                      Y4 [batch, 30]\n",
    "#         \\x/               -- fully connected layer (softmax)      W5 [30, 10]        B5[10]\n",
    "#          ·                                                        Y5 [batch, 10]"
   ]
  },
  {
   "cell_type": "code",
   "execution_count": 2,
   "metadata": {
    "collapsed": true
   },
   "outputs": [],
   "source": [
    "L=200\n",
    "M=100\n",
    "N=60\n",
    "O=30\n",
    "\n",
    "W1=tf.Variable(tf.truncated_normal([28*28,L],stddev=0.1))\n",
    "B1=tf.Variable(tf.zeros([L]))\n",
    "\n",
    "W2=tf.Variable(tf.truncated_normal([L,M],stddev=0.1))\n",
    "B2=tf.Variable(tf.zeros([M]))\n",
    "\n",
    "W3=tf.Variable(tf.truncated_normal([M,N],stddev=0.1))\n",
    "B3=tf.Variable(tf.zeros([N]))\n",
    "\n",
    "W4=tf.Variable(tf.truncated_normal([N,O],stddev=0.1))\n",
    "B4=tf.Variable(tf.zeros([O]))\n",
    "\n",
    "W5=tf.Variable(tf.truncated_normal([O,10],stddev=0.1))\n",
    "B5=tf.Variable(tf.zeros([10]))\n",
    "\n",
    "\n",
    "X=tf.placeholder(tf.float32,[None, 28,28,1])\n",
    "xx = tf.reshape(X,[-1,28*28])\n",
    "\n",
    "Y1=tf.nn.softmax(tf.matmul(xx,W1)+B1)\n",
    "Y2=tf.nn.softmax(tf.matmul(Y1,W2)+B2)\n",
    "Y3=tf.nn.softmax(tf.matmul(Y2,W3)+B3)\n",
    "Y4=tf.nn.softmax(tf.matmul(Y3,W4)+B4)\n",
    "Ylogits = tf.matmul(Y4, W5) + B5\n",
    "Y = tf.nn.softmax(Ylogits)\n"
   ]
  },
  {
   "cell_type": "code",
   "execution_count": 3,
   "metadata": {
    "collapsed": true
   },
   "outputs": [],
   "source": [
    "Y_ = tf.placeholder(tf.float32,[None,10])\n",
    "cross_entropy = tf.nn.softmax_cross_entropy_with_logits(logits=Ylogits, labels=Y_)\n",
    "cross_entropy = tf.reduce_mean(cross_entropy)*100"
   ]
  },
  {
   "cell_type": "code",
   "execution_count": 4,
   "metadata": {
    "collapsed": true
   },
   "outputs": [],
   "source": [
    "is_correct=tf.equal(tf.argmax(Y,1),tf.argmax(Y_,1))\n",
    "accuracy=tf.reduce_mean(tf.cast(is_correct,tf.float32))"
   ]
  },
  {
   "cell_type": "code",
   "execution_count": 5,
   "metadata": {
    "collapsed": true
   },
   "outputs": [],
   "source": [
    "# training step, learning rate = 0.003\n",
    "learning_rate = 0.003\n",
    "train_step = tf.train.AdamOptimizer(learning_rate).minimize(cross_entropy)"
   ]
  },
  {
   "cell_type": "code",
   "execution_count": 6,
   "metadata": {
    "collapsed": true
   },
   "outputs": [],
   "source": [
    "# init\n",
    "init = tf.global_variables_initializer()\n",
    "sess = tf.Session()\n",
    "sess.run(init)"
   ]
  },
  {
   "cell_type": "code",
   "execution_count": null,
   "metadata": {},
   "outputs": [
    {
     "name": "stdout",
     "output_type": "stream",
     "text": [
      "0 : accuracy:0.1135 loss: 230.2491\n",
      "100 : accuracy:0.1135 loss: 230.09625\n",
      "200 : accuracy:0.2082 loss: 220.64946\n",
      "300 : accuracy:0.2071 loss: 186.03062\n"
     ]
    }
   ],
   "source": [
    "for i in range(10000):\n",
    "    batch_X,batch_Y=mnist.train.next_batch(1000)\n",
    "    train_data={X:batch_X,Y_:batch_Y}\n",
    "    sess.run(train_step,feed_dict=train_data)\n",
    "    a,c=sess.run([accuracy,cross_entropy],feed_dict=train_data)\n",
    "    #print(str(i) + \"Train: accuracy:\" + str(a) + \" loss: \" + str(c))\n",
    "    \n",
    "    test_data={X:mnist.test.images,Y_:mnist.test.labels}\n",
    "    a,c=sess.run([accuracy,cross_entropy],feed_dict=test_data)\n",
    "    if i%100==0:\n",
    "        print(str(i) + \" : accuracy:\" + str(a) + \" loss: \" + str(c))\n",
    "    \n",
    "    #print(\"b is:\")\n",
    "    #print (sess.run(b))\n",
    "    #print(\"W is:\")\n",
    "    #print (sess.run(W))"
   ]
  },
  {
   "cell_type": "code",
   "execution_count": null,
   "metadata": {
    "collapsed": true
   },
   "outputs": [],
   "source": []
  }
 ],
 "metadata": {
  "kernelspec": {
   "display_name": "Python [conda env:py37]",
   "language": "python",
   "name": "conda-env-py37-py"
  },
  "language_info": {
   "codemirror_mode": {
    "name": "ipython",
    "version": 3
   },
   "file_extension": ".py",
   "mimetype": "text/x-python",
   "name": "python",
   "nbconvert_exporter": "python",
   "pygments_lexer": "ipython3",
   "version": "3.5.4"
  }
 },
 "nbformat": 4,
 "nbformat_minor": 2
}
