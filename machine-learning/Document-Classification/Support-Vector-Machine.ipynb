{
 "cells": [
  {
   "cell_type": "markdown",
   "metadata": {},
   "source": [
    "# SVM Demo"
   ]
  },
  {
   "cell_type": "code",
   "execution_count": 26,
   "metadata": {},
   "outputs": [
    {
     "data": {
      "text/plain": [
       "SVC(C=1.0, cache_size=200, class_weight=None, coef0=0.0,\n",
       "  decision_function_shape='ovr', degree=3, gamma='auto', kernel='rbf',\n",
       "  max_iter=-1, probability=False, random_state=None, shrinking=True,\n",
       "  tol=0.001, verbose=False)"
      ]
     },
     "execution_count": 26,
     "metadata": {},
     "output_type": "execute_result"
    }
   ],
   "source": [
    "from sklearn import svm\n",
    "X = [[0, 0], [1, 1]]\n",
    "y = [0, 1]\n",
    "clf = svm.SVC()\n",
    "clf.fit(X, y)"
   ]
  },
  {
   "cell_type": "code",
   "execution_count": 7,
   "metadata": {},
   "outputs": [
    {
     "data": {
      "text/plain": [
       "array([1])"
      ]
     },
     "execution_count": 7,
     "metadata": {},
     "output_type": "execute_result"
    }
   ],
   "source": [
    "clf.predict([[2., 2.]])"
   ]
  },
  {
   "cell_type": "code",
   "execution_count": 15,
   "metadata": {},
   "outputs": [
    {
     "name": "stdout",
     "output_type": "stream",
     "text": [
      "[[ 0.  0.]\n",
      " [ 1.  1.]]\n",
      "----------------------------------------------------------------------------------------------------\n",
      "[0 1]\n"
     ]
    }
   ],
   "source": [
    "# get support vectors\n",
    "print(clf.support_vectors_)\n",
    "# get indices of support vectors\n",
    "print('-'*100)\n",
    "print(clf.support_)"
   ]
  },
  {
   "cell_type": "markdown",
   "metadata": {},
   "source": [
    "# SVM on Text Data"
   ]
  },
  {
   "cell_type": "markdown",
   "metadata": {},
   "source": [
    "### Download Data"
   ]
  },
  {
   "cell_type": "code",
   "execution_count": 28,
   "metadata": {},
   "outputs": [
    {
     "name": "stdout",
     "output_type": "stream",
     "text": [
      "No of Docs in Training: 4732\n",
      "No of Docs in Testing: 3150\n"
     ]
    }
   ],
   "source": [
    "from sklearn.datasets import fetch_20newsgroups\n",
    "import matplotlib.pyplot as plt\n",
    "import numpy as np\n",
    "\n",
    "categories = ['comp.graphics','comp.os.ms-windows.misc','comp.sys.ibm.pc.hardware','comp.sys.mac.hardware'\n",
    "             ,'rec.autos','rec.motorcycles','rec.sport.baseball','rec.sport.hockey']\n",
    "\n",
    "train=fetch_20newsgroups(subset='train', categories= categories,shuffle=True, random_state=42)\n",
    "test=fetch_20newsgroups(subset='test', categories= categories,shuffle=True, random_state=42)\n",
    "\n",
    "print(\"No of Docs in Training:\", len(train.data))\n",
    "print(\"No of Docs in Testing:\", len(test.data))"
   ]
  },
  {
   "cell_type": "markdown",
   "metadata": {},
   "source": [
    "### Document Term Matrix"
   ]
  },
  {
   "cell_type": "code",
   "execution_count": 49,
   "metadata": {},
   "outputs": [
    {
     "name": "stdout",
     "output_type": "stream",
     "text": [
      "Number of Documents in train:  4732\n",
      "Number of Features/terms in train:  78910\n",
      "----------------------------------------------------------------------------------------------------\n",
      "Number of Documents in test:  3150\n",
      "Number of Features/terms in test:  78910\n"
     ]
    }
   ],
   "source": [
    "from sklearn.feature_extraction.text import CountVectorizer\n",
    "\n",
    "# Stop Words\n",
    "from sklearn.feature_extraction import text\n",
    "stop_words = text.ENGLISH_STOP_WORDS\n",
    "\n",
    "count_vect_class = CountVectorizer(stop_words='english',min_df=1)\n",
    "X_dtf = count_vect_class.fit_transform(train.data)\n",
    "X_dtf.shape \n",
    "\n",
    "X_dtf_test = count_vect_class.transform(test.data)\n",
    "X_dtf_test.shape \n",
    "\n",
    "\n",
    "print ('Number of Documents in train: ',X_dtf.shape[0])\n",
    "print ('Number of Features/terms in train: ',X_dtf.shape[1])\n",
    "print(\"-\"*100)\n",
    "\n",
    "print ('Number of Documents in test: ',X_dtf_test.shape[0])\n",
    "print ('Number of Features/terms in test: ',X_dtf_test.shape[1])"
   ]
  },
  {
   "cell_type": "markdown",
   "metadata": {},
   "source": [
    "### TFIDF\n",
    "\n",
    "$$TF\\times IDF(t,d)=tf(t,d)\\times idf(t)$$\n",
    "\n",
    "$$idf(t)=\\log(\\frac{n}{df(t)})+1$$\n",
    "\n",
    "- $tf(t, d)$: term frequency of term $t$ in the document $d$.\n",
    "\n",
    "\n",
    "- $idf(t)$: inverse document frequency of term $t$ across the document dataset.\n",
    " - $df(t)$: # of documents that contain the term $t$.\n",
    " - Intuition: words that appear in all documents are useless in classificaiton."
   ]
  },
  {
   "cell_type": "code",
   "execution_count": 51,
   "metadata": {},
   "outputs": [
    {
     "name": "stdout",
     "output_type": "stream",
     "text": [
      "Shape of the Matrix in train (4732, 78910)\n",
      "----------------------------------------------------------------------------------------------------\n",
      "Sample Content in train\n",
      "[[ 0.          0.          0.          0.          0.        ]\n",
      " [ 0.          0.          0.          0.          0.        ]\n",
      " [ 0.          0.          0.          0.          0.        ]\n",
      " [ 0.04174827  0.          0.          0.          0.        ]\n",
      " [ 0.          0.          0.          0.          0.        ]]\n",
      "----------------------------------------------------------------------------------------------------\n",
      "Shape of the Matrix in test (3150, 78910)\n",
      "----------------------------------------------------------------------------------------------------\n",
      "Sample Content in test\n",
      "[[ 0.  0.  0.  0.  0.]\n",
      " [ 0.  0.  0.  0.  0.]\n",
      " [ 0.  0.  0.  0.  0.]\n",
      " [ 0.  0.  0.  0.  0.]\n",
      " [ 0.  0.  0.  0.  0.]]\n"
     ]
    }
   ],
   "source": [
    "# TFIDF\n",
    "from sklearn.feature_extraction.text import TfidfTransformer\n",
    "\n",
    "#Smooth idf, else it adds 1 to denominator and numinator\n",
    "tfidf_transformer = TfidfTransformer(smooth_idf=False)\n",
    "\n",
    "X_tfidf = tfidf_transformer.fit_transform(X_dtf)\n",
    "\n",
    "X_tfidf_test = tfidf_transformer.transform(X_dtf_test)\n",
    "\n",
    "print ('Shape of the Matrix in train',X_tfidf.shape)\n",
    "print ('-' * 100)\n",
    "print('Sample Content in train')\n",
    "print (X_tfidf.toarray()[:5,:5])\n",
    "\n",
    "print ('-' * 100)\n",
    "\n",
    "print ('Shape of the Matrix in test',X_tfidf_test.shape)\n",
    "print ('-' * 100)\n",
    "print('Sample Content in test')\n",
    "print (X_tfidf_test.toarray()[:5,:5])\n",
    "\n"
   ]
  },
  {
   "cell_type": "markdown",
   "metadata": {},
   "source": [
    "### Dimensionality Reduction NMF\n",
    "- We don't need very large number of features (78910): Making it to 50 features"
   ]
  },
  {
   "cell_type": "code",
   "execution_count": 52,
   "metadata": {},
   "outputs": [
    {
     "name": "stdout",
     "output_type": "stream",
     "text": [
      "Shape of the Matrix in train (4732, 50)\n",
      "----------------------------------------------------------------------------------------------------\n",
      "Shape of the Matrix in train (3150, 50)\n",
      "----------------------------------------------------------------------------------------------------\n"
     ]
    }
   ],
   "source": [
    "from sklearn.decomposition import NMF\n",
    "model = NMF(n_components=50, init='random', random_state=0)\n",
    "X_NMF = model.fit_transform(X_tfidf)\n",
    "print ('Shape of the Matrix in train',X_NMF.shape)\n",
    "print ('-' * 100)\n",
    "\n",
    "X_NMF_test = model.fit_transform(X_tfidf_test)\n",
    "print ('Shape of the Matrix in train',X_NMF_test.shape)\n",
    "print ('-' * 100)\n"
   ]
  },
  {
   "cell_type": "code",
   "execution_count": 53,
   "metadata": {},
   "outputs": [
    {
     "name": "stdout",
     "output_type": "stream",
     "text": [
      "Sample Content in train\n",
      "[[ 0.03218267  0.          0.          0.          0.        ]\n",
      " [ 0.00677435  0.          0.          0.          0.00148069]\n",
      " [ 0.          0.00029637  0.          0.          0.        ]\n",
      " [ 0.00670832  0.          0.00044467  0.00237779  0.        ]\n",
      " [ 0.          0.          0.          0.          0.        ]]\n",
      "----------------------------------------------------------------------------------------------------\n",
      "Sample Content in test\n",
      "[[ 0.0014235   0.          0.00185034  0.          0.        ]\n",
      " [ 0.          0.          0.          0.          0.00337327]\n",
      " [ 0.00311383  0.00349846  0.          0.          0.        ]\n",
      " [ 0.          0.02869822  0.00295032  0.00126304  0.01520629]\n",
      " [ 0.00121601  0.00108368  0.          0.00053357  0.00742699]]\n"
     ]
    }
   ],
   "source": [
    "print('Sample Content in train')\n",
    "print (X_NMF[:5,:5])\n",
    "print ('-' * 100)\n",
    "print('Sample Content in test')\n",
    "print (X_NMF_test[:5,:5])"
   ]
  },
  {
   "cell_type": "code",
   "execution_count": 96,
   "metadata": {},
   "outputs": [
    {
     "name": "stdout",
     "output_type": "stream",
     "text": [
      "Shape of input X labels (4732, 50)\n",
      "Shape of input Y labels (4732,)\n"
     ]
    },
    {
     "data": {
      "text/plain": [
       "SGDClassifier(alpha=0.001, average=False, class_weight=None, epsilon=0.1,\n",
       "       eta0=0.0, fit_intercept=True, l1_ratio=0.15,\n",
       "       learning_rate='optimal', loss='hinge', max_iter=5, n_iter=None,\n",
       "       n_jobs=1, penalty='l2', power_t=0.5, random_state=42, shuffle=True,\n",
       "       tol=None, verbose=0, warm_start=False)"
      ]
     },
     "execution_count": 96,
     "metadata": {},
     "output_type": "execute_result"
    }
   ],
   "source": [
    "from sklearn.linear_model import SGDClassifier\n",
    "# X = X_NMF\n",
    "# Y = Target labels = train.target\n",
    "print(\"Shape of input X labels\",X_NMF.shape)\n",
    "print(\"Shape of input Y labels\",train.target.shape)\n",
    "clf = SGDClassifier(loss='hinge', penalty='l2',alpha=1e-3, random_state=42,max_iter=5, tol=None)\n",
    "#clf = SGDClassifier(max_iter=7)\n",
    "clf.fit(X_tfidf, train.target)"
   ]
  },
  {
   "cell_type": "markdown",
   "metadata": {},
   "source": [
    "### Testing on the Test Data"
   ]
  },
  {
   "cell_type": "code",
   "execution_count": 98,
   "metadata": {},
   "outputs": [
    {
     "name": "stdout",
     "output_type": "stream",
     "text": [
      "Accuracy of SVM is:\n",
      "0.893333333333\n"
     ]
    }
   ],
   "source": [
    "predicted = clf.predict(X_tfidf_test) \n",
    "print(\"Accuracy of SVM is:\")\n",
    "print(np.mean(predicted == test.target))   "
   ]
  },
  {
   "cell_type": "code",
   "execution_count": 99,
   "metadata": {},
   "outputs": [
    {
     "name": "stdout",
     "output_type": "stream",
     "text": [
      "Accuracy of Simple MultinomialNB is\n"
     ]
    },
    {
     "data": {
      "text/plain": [
       "0.87619047619047619"
      ]
     },
     "execution_count": 99,
     "metadata": {},
     "output_type": "execute_result"
    }
   ],
   "source": [
    "from sklearn.pipeline import Pipeline\n",
    "from sklearn.naive_bayes import MultinomialNB\n",
    "text_clf = Pipeline([('vect', CountVectorizer()),\n",
    "                     ('tfidf', TfidfTransformer()),\n",
    "                     ('clf', MultinomialNB())])\n",
    "text_clf.fit(train.data, train.target) \n",
    "predicted = text_clf.predict(test.data)\n",
    "\n",
    "print(\"Accuracy of Simple MultinomialNB is\")\n",
    "np.mean(predicted == test.target)"
   ]
  },
  {
   "cell_type": "code",
   "execution_count": null,
   "metadata": {
    "collapsed": true
   },
   "outputs": [],
   "source": []
  },
  {
   "cell_type": "code",
   "execution_count": null,
   "metadata": {
    "collapsed": true
   },
   "outputs": [],
   "source": []
  }
 ],
 "metadata": {
  "kernelspec": {
   "display_name": "Python [conda env:py37]",
   "language": "python",
   "name": "conda-env-py37-py"
  },
  "language_info": {
   "codemirror_mode": {
    "name": "ipython",
    "version": 3
   },
   "file_extension": ".py",
   "mimetype": "text/x-python",
   "name": "python",
   "nbconvert_exporter": "python",
   "pygments_lexer": "ipython3",
   "version": "3.5.4"
  }
 },
 "nbformat": 4,
 "nbformat_minor": 2
}
