{
 "cells": [
  {
   "cell_type": "markdown",
   "metadata": {},
   "source": [
    "# Back Propagation "
   ]
  },
  {
   "cell_type": "markdown",
   "metadata": {},
   "source": [
    "## What we need is to calculate:\n",
    "    - How weights are affecting the cost\n",
    "    - We needs to change weights such that the cost decreases"
   ]
  },
  {
   "cell_type": "markdown",
   "metadata": {},
   "source": [
    "## Finally what we need is $\\frac{\\partial cost}{\\partial weight}$ and $\\frac{\\partial cost}{\\partial bias}$\n",
    "- we need to change both the weights and biases in the direction which minimized the cost"
   ]
  },
  {
   "cell_type": "markdown",
   "metadata": {},
   "source": [
    "# $\\frac{\\partial cost}{\\partial weight}$ = $\\frac{\\partial cost}{\\partial activation}$ * $\\frac{\\partial activation}{\\partial summation}$ * $\\frac{\\partial summation}{\\partial weight}$"
   ]
  },
  {
   "cell_type": "markdown",
   "metadata": {},
   "source": [
    "# $\\frac{\\partial cost}{\\partial bias}$ = $\\frac{\\partial cost}{\\partial activation}$ * $\\frac{\\partial activation}{\\partial summation}$ * $\\frac{\\partial summation}{\\partial bias}$"
   ]
  },
  {
   "cell_type": "markdown",
   "metadata": {},
   "source": [
    "## here\n",
    "- Summation $(z)$ is dependent on the weights and biases\n",
    "  - This can be directly differentiated with respect to weights and biases of the current layer L\n",
    "  - ${z}^{L}$ = $W^{L-1}*a^{L-1} + B^{L}$\n",
    "- activation of a layer $L$ is dependent on the activation function being used\n",
    "  - sigma or relu\n",
    "  - eg for sigma: $\\sigma(Z^{L})$\n",
    "- Cost is dependent on the output of the activation\n",
    "  - For simplicity , it is of the form\n",
    "  - Cost = $\\sigma(Z^{L})-y$ , where $y$ is the true label"
   ]
  },
  {
   "cell_type": "code",
   "execution_count": null,
   "metadata": {
    "collapsed": true
   },
   "outputs": [],
   "source": []
  }
 ],
 "metadata": {
  "kernelspec": {
   "display_name": "Python [conda env:py37]",
   "language": "python",
   "name": "conda-env-py37-py"
  },
  "language_info": {
   "codemirror_mode": {
    "name": "ipython",
    "version": 3
   },
   "file_extension": ".py",
   "mimetype": "text/x-python",
   "name": "python",
   "nbconvert_exporter": "python",
   "pygments_lexer": "ipython3",
   "version": "3.5.4"
  }
 },
 "nbformat": 4,
 "nbformat_minor": 2
}
