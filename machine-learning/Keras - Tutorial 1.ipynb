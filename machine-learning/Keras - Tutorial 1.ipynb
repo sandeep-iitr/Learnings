{
 "cells": [
  {
   "cell_type": "markdown",
   "metadata": {},
   "source": [
    "# Keras - Preprocess Data"
   ]
  },
  {
   "cell_type": "code",
   "execution_count": 164,
   "metadata": {
    "collapsed": true
   },
   "outputs": [],
   "source": [
    "import numpy as np\n",
    "from random import randint\n",
    "from sklearn.preprocessing import MinMaxScaler"
   ]
  },
  {
   "cell_type": "code",
   "execution_count": 175,
   "metadata": {
    "collapsed": true
   },
   "outputs": [],
   "source": [
    "train_labels=[]\n",
    "train_samples=[]"
   ]
  },
  {
   "cell_type": "markdown",
   "metadata": {},
   "source": [
    "# Fake Data:\n",
    "- Younger : healthy\n",
    "- Older: diseased\n",
    "- with some errors in the data"
   ]
  },
  {
   "cell_type": "code",
   "execution_count": 176,
   "metadata": {
    "collapsed": true
   },
   "outputs": [],
   "source": [
    "\n",
    "for i in range(50):\n",
    "    random_younger=randint(13,64)\n",
    "    train_samples.append(random_younger)\n",
    "    train_labels.append(1)\n",
    "    \n",
    "    random_older=randint(65,100)\n",
    "    train_samples.append(random_older)\n",
    "    train_labels.append(0) \n",
    "    \n",
    "\n",
    "for i in range(4000):\n",
    "    random_younger=randint(13,64)\n",
    "    train_samples.append(random_younger)\n",
    "    train_labels.append(0)\n",
    "    \n",
    "    random_older=randint(65,100)\n",
    "    train_samples.append(random_older)\n",
    "    train_labels.append(1)\n",
    "  "
   ]
  },
  {
   "cell_type": "code",
   "execution_count": 8,
   "metadata": {
    "collapsed": true
   },
   "outputs": [],
   "source": [
    "#for i in train_samples:\n",
    "#    print(i)"
   ]
  },
  {
   "cell_type": "code",
   "execution_count": 177,
   "metadata": {
    "collapsed": true
   },
   "outputs": [],
   "source": [
    "train_labels=np.array(train_labels)\n",
    "train_samples=np.array(train_samples)"
   ]
  },
  {
   "cell_type": "code",
   "execution_count": 178,
   "metadata": {},
   "outputs": [
    {
     "name": "stderr",
     "output_type": "stream",
     "text": [
      "/Users/administrator/anaconda3/envs/py37/lib/python3.5/site-packages/sklearn/utils/validation.py:475: DataConversionWarning: Data with input dtype int64 was converted to float64 by MinMaxScaler.\n",
      "  warnings.warn(msg, DataConversionWarning)\n"
     ]
    }
   ],
   "source": [
    "scaler = MinMaxScaler(feature_range=(0,1))\n",
    "scaled_train_sample=scaler.fit_transform((train_samples).reshape(-1,1))"
   ]
  },
  {
   "cell_type": "code",
   "execution_count": 12,
   "metadata": {
    "collapsed": true
   },
   "outputs": [],
   "source": [
    "#for i in scaled_train_sample:\n",
    "#    print(i)"
   ]
  },
  {
   "cell_type": "code",
   "execution_count": 179,
   "metadata": {},
   "outputs": [
    {
     "name": "stdout",
     "output_type": "stream",
     "text": [
      "(8100,)\n",
      "(8100, 1)\n",
      "(8100, 1)\n"
     ]
    }
   ],
   "source": [
    "print (train_samples.shape)\n",
    "print (train_samples.reshape(-1,1).shape)\n",
    "print (scaled_train_sample.reshape(-1,1).shape)"
   ]
  },
  {
   "cell_type": "markdown",
   "metadata": {},
   "source": [
    "# Kera Libaries"
   ]
  },
  {
   "cell_type": "code",
   "execution_count": 197,
   "metadata": {
    "collapsed": true
   },
   "outputs": [],
   "source": [
    "import keras\n",
    "from keras import backend as K\n",
    "from keras.models import Sequential\n",
    "from keras.layers import Activation\n",
    "from keras.layers.core import Dense\n",
    "from keras.optimizers import Adam\n",
    "from keras.metrics import categorical_crossentropy"
   ]
  },
  {
   "cell_type": "code",
   "execution_count": 198,
   "metadata": {
    "collapsed": true
   },
   "outputs": [],
   "source": [
    "model = Sequential([\n",
    "    \n",
    "    Dense(16,input_shape=(1,), activation='relu'),\n",
    "    Dense(32,activation='relu'),\n",
    "    Dense(2,activation='softmax')\n",
    "])"
   ]
  },
  {
   "cell_type": "code",
   "execution_count": 199,
   "metadata": {},
   "outputs": [
    {
     "name": "stdout",
     "output_type": "stream",
     "text": [
      "_________________________________________________________________\n",
      "Layer (type)                 Output Shape              Param #   \n",
      "=================================================================\n",
      "dense_113 (Dense)            (None, 16)                32        \n",
      "_________________________________________________________________\n",
      "dense_114 (Dense)            (None, 32)                544       \n",
      "_________________________________________________________________\n",
      "dense_115 (Dense)            (None, 2)                 66        \n",
      "=================================================================\n",
      "Total params: 642\n",
      "Trainable params: 642\n",
      "Non-trainable params: 0\n",
      "_________________________________________________________________\n"
     ]
    }
   ],
   "source": [
    "model.summary()"
   ]
  },
  {
   "cell_type": "code",
   "execution_count": 200,
   "metadata": {
    "collapsed": true
   },
   "outputs": [],
   "source": [
    "model.compile(Adam(lr=0.001),loss='sparse_categorical_crossentropy',metrics=['accuracy'])"
   ]
  },
  {
   "cell_type": "code",
   "execution_count": 201,
   "metadata": {
    "scrolled": true
   },
   "outputs": [
    {
     "name": "stdout",
     "output_type": "stream",
     "text": [
      "Train on 6480 samples, validate on 1620 samples\n",
      "Epoch 1/5\n",
      "6480/6480 [==============================] - 3s 537us/step - loss: 0.3580 - acc: 0.8647 - val_loss: 0.1164 - val_acc: 0.9907\n",
      "Epoch 2/5\n",
      "6480/6480 [==============================] - 2s 370us/step - loss: 0.1456 - acc: 0.9705 - val_loss: 0.0726 - val_acc: 0.9815\n",
      "Epoch 3/5\n",
      "6480/6480 [==============================] - 2s 375us/step - loss: 0.1293 - acc: 0.9745 - val_loss: 0.0576 - val_acc: 0.9907\n",
      "Epoch 4/5\n",
      "6480/6480 [==============================] - 2s 367us/step - loss: 0.1226 - acc: 0.9769 - val_loss: 0.0519 - val_acc: 1.0000\n",
      "Epoch 5/5\n",
      "6480/6480 [==============================] - 2s 369us/step - loss: 0.1180 - acc: 0.9779 - val_loss: 0.0486 - val_acc: 0.9907\n"
     ]
    },
    {
     "data": {
      "text/plain": [
       "<keras.callbacks.History at 0x1a226d6a20>"
      ]
     },
     "execution_count": 201,
     "metadata": {},
     "output_type": "execute_result"
    }
   ],
   "source": [
    "model.fit(scaled_train_sample,train_labels,validation_split=0.2,batch_size=10,epochs=5,shuffle=True)"
   ]
  },
  {
   "cell_type": "code",
   "execution_count": 121,
   "metadata": {
    "collapsed": true
   },
   "outputs": [],
   "source": [
    "# model.evaluate(scaled_train_sample,train_labels)"
   ]
  },
  {
   "cell_type": "code",
   "execution_count": 122,
   "metadata": {
    "collapsed": true
   },
   "outputs": [],
   "source": [
    "# model.layers[0].trainable = True\n",
    "# model.layers[1].trainable = True\n",
    "# model.layers[2].trainable = True\n",
    "# model.layers[3].trainable = True\n",
    "# model.layers[4].trainable = True\n",
    "# model.layers[5].trainable = True\n",
    "# model.summary()"
   ]
  },
  {
   "cell_type": "code",
   "execution_count": 123,
   "metadata": {
    "collapsed": true
   },
   "outputs": [],
   "source": [
    "\n",
    "# model = Sequential([\n",
    "    \n",
    "#     Dense(16,input_shape=(1,), activation='relu'),\n",
    "#     Dense(32,activation='relu'),\n",
    "#     Dense(32,activation='relu'),\n",
    "#     Dense(32,activation='relu'),\n",
    "#     Dense(32,activation='relu'),\n",
    "#     Dense(32,activation='relu'),\n",
    "#     Dense(32,activation='relu'),\n",
    "#     Dense(32,activation='relu'),\n",
    "#     Dense(2,activation='softmax')\n",
    "# ])\n",
    "# model.compile(Adam(lr=0.001),loss='sparse_categorical_crossentropy',metrics=['accuracy'])\n",
    "\n",
    "# model.fit(scaled_train_sample,train_labels,batch_size=1,epochs=200,shuffle=True)"
   ]
  },
  {
   "cell_type": "code",
   "execution_count": 124,
   "metadata": {
    "collapsed": true
   },
   "outputs": [],
   "source": [
    "# model = Sequential([\n",
    "    \n",
    "#     Dense(16,input_shape=(1,), activation='relu'),\n",
    "#     Dense(32,activation='relu'),\n",
    "#     Dense(32,activation='relu'),\n",
    "#     Dense(32,activation='relu'),\n",
    "#     Dense(32,activation='relu'),\n",
    "#     Dense(2,activation='softmax')\n",
    "# ])\n",
    "# model.compile(Adam(lr=0.001),loss='sparse_categorical_crossentropy',metrics=['accuracy'])\n",
    "\n",
    "# model.fit(scaled_train_sample,train_labels,batch_size=20,epochs=20,shuffle=True)\n"
   ]
  },
  {
   "cell_type": "markdown",
   "metadata": {},
   "source": [
    "# Predicting using the trained model"
   ]
  },
  {
   "cell_type": "code",
   "execution_count": 202,
   "metadata": {
    "collapsed": true
   },
   "outputs": [],
   "source": [
    "test_samples=[]\n",
    "test_labels=[]\n",
    "for i in range(100):\n",
    "    random_younger=randint(13,64)\n",
    "    test_samples.append(random_younger)\n",
    "    test_labels.append(0)\n",
    "    \n",
    "    random_older=randint(65,100)\n",
    "    test_samples.append(random_older)\n",
    "    test_labels.append(1)"
   ]
  },
  {
   "cell_type": "code",
   "execution_count": 203,
   "metadata": {
    "collapsed": true
   },
   "outputs": [],
   "source": [
    "test_samples=np.array(test_samples)\n",
    "test_labels=np.array(test_labels)"
   ]
  },
  {
   "cell_type": "code",
   "execution_count": 204,
   "metadata": {},
   "outputs": [
    {
     "name": "stderr",
     "output_type": "stream",
     "text": [
      "/Users/administrator/anaconda3/envs/py37/lib/python3.5/site-packages/sklearn/utils/validation.py:475: DataConversionWarning: Data with input dtype int64 was converted to float64 by MinMaxScaler.\n",
      "  warnings.warn(msg, DataConversionWarning)\n"
     ]
    }
   ],
   "source": [
    "scaler = MinMaxScaler(feature_range=(0,1))\n",
    "scaled_test_samples=scaler.fit_transform((test_samples).reshape(-1,1))"
   ]
  },
  {
   "cell_type": "code",
   "execution_count": 212,
   "metadata": {
    "collapsed": true
   },
   "outputs": [],
   "source": [
    "predictions=model.predict_classes(scaled_test_samples,verbose=0)\n",
    "#print(predictions==test_labels)"
   ]
  },
  {
   "cell_type": "code",
   "execution_count": 213,
   "metadata": {},
   "outputs": [
    {
     "name": "stdout",
     "output_type": "stream",
     "text": [
      "200/200 [==============================] - 0s 67us/step\n",
      "[0.04709168016910553, 0.995]\n"
     ]
    }
   ],
   "source": [
    "score=model.evaluate(scaled_test_samples,test_labels)\n",
    "print(score)"
   ]
  },
  {
   "cell_type": "markdown",
   "metadata": {},
   "source": [
    "# Saving Keras Model - entirely"
   ]
  },
  {
   "cell_type": "code",
   "execution_count": 214,
   "metadata": {
    "collapsed": true
   },
   "outputs": [],
   "source": [
    "model.save('keras-tutorial-1')"
   ]
  },
  {
   "cell_type": "code",
   "execution_count": 215,
   "metadata": {
    "collapsed": true
   },
   "outputs": [],
   "source": [
    "from keras.models import load_model\n",
    "new_model=load_model('keras-tutorial-1')"
   ]
  },
  {
   "cell_type": "code",
   "execution_count": 216,
   "metadata": {
    "scrolled": true
   },
   "outputs": [
    {
     "name": "stdout",
     "output_type": "stream",
     "text": [
      "_________________________________________________________________\n",
      "Layer (type)                 Output Shape              Param #   \n",
      "=================================================================\n",
      "dense_113 (Dense)            (None, 16)                32        \n",
      "_________________________________________________________________\n",
      "dense_114 (Dense)            (None, 32)                544       \n",
      "_________________________________________________________________\n",
      "dense_115 (Dense)            (None, 2)                 66        \n",
      "=================================================================\n",
      "Total params: 642\n",
      "Trainable params: 642\n",
      "Non-trainable params: 0\n",
      "_________________________________________________________________\n"
     ]
    }
   ],
   "source": [
    "new_model.summary()"
   ]
  },
  {
   "cell_type": "code",
   "execution_count": 219,
   "metadata": {},
   "outputs": [
    {
     "data": {
      "text/plain": [
       "<keras.optimizers.Adam at 0x1a2269c518>"
      ]
     },
     "execution_count": 219,
     "metadata": {},
     "output_type": "execute_result"
    }
   ],
   "source": [
    "new_model.get_weights()\n",
    "new_model.optimizer"
   ]
  },
  {
   "cell_type": "code",
   "execution_count": 217,
   "metadata": {
    "scrolled": true
   },
   "outputs": [
    {
     "name": "stdout",
     "output_type": "stream",
     "text": [
      "200/200 [==============================] - 0s 2ms/step\n"
     ]
    },
    {
     "data": {
      "text/plain": [
       "[0.04709168016910553, 0.995]"
      ]
     },
     "execution_count": 217,
     "metadata": {},
     "output_type": "execute_result"
    }
   ],
   "source": [
    "new_model.evaluate(scaled_test_samples,test_labels)"
   ]
  },
  {
   "cell_type": "markdown",
   "metadata": {},
   "source": [
    "# Saving architecute of the model"
   ]
  },
  {
   "cell_type": "code",
   "execution_count": 221,
   "metadata": {},
   "outputs": [
    {
     "name": "stdout",
     "output_type": "stream",
     "text": [
      "{\"class_name\": \"Sequential\", \"backend\": \"tensorflow\", \"keras_version\": \"2.1.3\", \"config\": [{\"class_name\": \"Dense\", \"config\": {\"name\": \"dense_113\", \"bias_regularizer\": null, \"activity_regularizer\": null, \"kernel_constraint\": null, \"use_bias\": true, \"kernel_regularizer\": null, \"dtype\": \"float32\", \"bias_constraint\": null, \"bias_initializer\": {\"class_name\": \"Zeros\", \"config\": {}}, \"units\": 16, \"activation\": \"relu\", \"batch_input_shape\": [null, 1], \"trainable\": true, \"kernel_initializer\": {\"class_name\": \"VarianceScaling\", \"config\": {\"mode\": \"fan_avg\", \"distribution\": \"uniform\", \"seed\": null, \"scale\": 1.0}}}}, {\"class_name\": \"Dense\", \"config\": {\"name\": \"dense_114\", \"bias_regularizer\": null, \"activity_regularizer\": null, \"kernel_constraint\": null, \"use_bias\": true, \"kernel_regularizer\": null, \"units\": 32, \"bias_initializer\": {\"class_name\": \"Zeros\", \"config\": {}}, \"bias_constraint\": null, \"activation\": \"relu\", \"trainable\": true, \"kernel_initializer\": {\"class_name\": \"VarianceScaling\", \"config\": {\"mode\": \"fan_avg\", \"distribution\": \"uniform\", \"seed\": null, \"scale\": 1.0}}}}, {\"class_name\": \"Dense\", \"config\": {\"name\": \"dense_115\", \"bias_regularizer\": null, \"activity_regularizer\": null, \"kernel_constraint\": null, \"use_bias\": true, \"kernel_regularizer\": null, \"units\": 2, \"bias_initializer\": {\"class_name\": \"Zeros\", \"config\": {}}, \"bias_constraint\": null, \"activation\": \"softmax\", \"trainable\": true, \"kernel_initializer\": {\"class_name\": \"VarianceScaling\", \"config\": {\"mode\": \"fan_avg\", \"distribution\": \"uniform\", \"seed\": null, \"scale\": 1.0}}}}]}\n"
     ]
    }
   ],
   "source": [
    "json_string = model.to_json()\n",
    "print(json_string)"
   ]
  },
  {
   "cell_type": "code",
   "execution_count": 223,
   "metadata": {},
   "outputs": [
    {
     "name": "stdout",
     "output_type": "stream",
     "text": [
      "_________________________________________________________________\n",
      "Layer (type)                 Output Shape              Param #   \n",
      "=================================================================\n",
      "dense_113 (Dense)            (None, 16)                32        \n",
      "_________________________________________________________________\n",
      "dense_114 (Dense)            (None, 32)                544       \n",
      "_________________________________________________________________\n",
      "dense_115 (Dense)            (None, 2)                 66        \n",
      "=================================================================\n",
      "Total params: 642\n",
      "Trainable params: 642\n",
      "Non-trainable params: 0\n",
      "_________________________________________________________________\n"
     ]
    }
   ],
   "source": [
    "from keras.models import model_from_json\n",
    "model_architecture=model_from_json(json_string)\n",
    "model_architecture.summary()"
   ]
  },
  {
   "cell_type": "markdown",
   "metadata": {},
   "source": [
    "# Saving the weights of the model"
   ]
  },
  {
   "cell_type": "code",
   "execution_count": 224,
   "metadata": {
    "collapsed": true
   },
   "outputs": [],
   "source": [
    "model.save_weights('keras-tutorial-1-weights')"
   ]
  },
  {
   "cell_type": "code",
   "execution_count": 225,
   "metadata": {
    "collapsed": true
   },
   "outputs": [],
   "source": [
    "model2=Sequential([\n",
    "    \n",
    "    Dense(16,input_shape=(1,), activation='relu'),\n",
    "    Dense(32,activation='relu'),\n",
    "    Dense(2,activation='softmax')\n",
    "])"
   ]
  },
  {
   "cell_type": "code",
   "execution_count": 229,
   "metadata": {
    "collapsed": true
   },
   "outputs": [],
   "source": [
    "model2.load_weights('keras-tutorial-1-weights')\n",
    "model2.compile(Adam(lr=0.001),loss='sparse_categorical_crossentropy',metrics=['accuracy'])"
   ]
  },
  {
   "cell_type": "code",
   "execution_count": 230,
   "metadata": {},
   "outputs": [
    {
     "name": "stdout",
     "output_type": "stream",
     "text": [
      "200/200 [==============================] - 1s 4ms/step\n"
     ]
    },
    {
     "data": {
      "text/plain": [
       "[0.04709168016910553, 0.995]"
      ]
     },
     "execution_count": 230,
     "metadata": {},
     "output_type": "execute_result"
    }
   ],
   "source": [
    "model2.evaluate(scaled_test_samples,test_labels)"
   ]
  },
  {
   "cell_type": "code",
   "execution_count": null,
   "metadata": {
    "collapsed": true
   },
   "outputs": [],
   "source": []
  }
 ],
 "metadata": {
  "kernelspec": {
   "display_name": "Python [conda env:py37]",
   "language": "python",
   "name": "conda-env-py37-py"
  },
  "language_info": {
   "codemirror_mode": {
    "name": "ipython",
    "version": 3
   },
   "file_extension": ".py",
   "mimetype": "text/x-python",
   "name": "python",
   "nbconvert_exporter": "python",
   "pygments_lexer": "ipython3",
   "version": "3.5.4"
  }
 },
 "nbformat": 4,
 "nbformat_minor": 2
}
