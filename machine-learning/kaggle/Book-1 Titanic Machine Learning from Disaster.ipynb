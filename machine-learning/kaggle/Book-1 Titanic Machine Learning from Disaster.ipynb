{
 "cells": [
  {
   "cell_type": "code",
   "execution_count": 114,
   "metadata": {
    "collapsed": true
   },
   "outputs": [],
   "source": [
    "import csv\n",
    "PID=[]\n",
    "IData=[]\n",
    "ILabel=[]\n",
    "with open('data/train.csv', 'r') as csvfile:\n",
    "    data = csv.DictReader(csvfile, delimiter=',')\n",
    "    for row in data:\n",
    "        if row['Age']=='':\n",
    "            row['Age']='0'\n",
    "        PID.append(int(row['PassengerId']))\n",
    "        IData.append([int(row['Pclass'])\n",
    "                      ,row['Sex'],float(row['Age']),int(row['SibSp']),int(row['Parch']),row['Embarked']])\n",
    "        ILabel.append(row['Survived'])\n",
    "#print(IData)\n",
    "#print(len(IData))\n",
    "#print(len(ILabel))"
   ]
  },
  {
   "cell_type": "code",
   "execution_count": 120,
   "metadata": {},
   "outputs": [
    {
     "name": "stdout",
     "output_type": "stream",
     "text": [
      "<class 'list'>\n"
     ]
    }
   ],
   "source": [
    "for datum in IData:\n",
    "    if datum[1]=='male':\n",
    "        datum[1]=0\n",
    "    if datum[1]=='female':\n",
    "        datum[1]=1        \n",
    "    if datum[5]=='S':\n",
    "        datum[5]=0\n",
    "    if datum[5]=='C':\n",
    "        datum[5]=1\n",
    "    if datum[5]=='Q':\n",
    "        datum[5]=2\n",
    "    if datum[5]=='':\n",
    "        datum[5]=4\n",
    "       \n",
    "for datum in IData:\n",
    "    for i in range(0,6):\n",
    "        if not isinstance(datum[i], (int,float)):\n",
    "            print(type(datum[i]),datum[i],datum,i)\n",
    "print(type(IData))"
   ]
  },
  {
   "cell_type": "code",
   "execution_count": 116,
   "metadata": {},
   "outputs": [
    {
     "name": "stdout",
     "output_type": "stream",
     "text": [
      "Accuracy: 0.8324022346368715\n",
      "['0', '0', '1', '1', '0', '1', '1', '1', '0', '0']\n",
      "['0' '0' '1' '1' '0' '0' '1' '1' '1' '0']\n"
     ]
    }
   ],
   "source": [
    "from sklearn.model_selection import train_test_split\n",
    "X_train, X_test, y_train, y_test = train_test_split(\n",
    "    IData, ILabel, test_size=0.2, random_state=4)\n",
    "\n",
    "#print(IData)  \n",
    "from sklearn import svm\n",
    "clf = svm.SVC(kernel='rbf', degree=3,C=1,probability=True)\n",
    "clf.fit(X_train, y_train)\n",
    "\n",
    "print(\"Accuracy:\",clf.score(X_test, y_test))\n",
    "Y_predict=clf.predict(X_test)\n",
    "print(y_test[:10])\n",
    "print(Y_predict[:10])"
   ]
  },
  {
   "cell_type": "code",
   "execution_count": 110,
   "metadata": {},
   "outputs": [
    {
     "name": "stdout",
     "output_type": "stream",
     "text": [
      "[0.75418994 0.79888268 0.82022472 0.78651685 0.8079096 ]\n"
     ]
    }
   ],
   "source": [
    "from sklearn.model_selection import cross_val_score\n",
    "clf2 = svm.SVC(kernel='rbf', degree=3)\n",
    "scores = cross_val_score(clf2, IData, ILabel, cv=5)\n",
    "print(scores)"
   ]
  },
  {
   "cell_type": "code",
   "execution_count": 144,
   "metadata": {
    "collapsed": true
   },
   "outputs": [],
   "source": [
    "import csv\n",
    "TPID=[]\n",
    "TIData=[]\n",
    "with open('data/test.csv', 'r') as csvfile:\n",
    "    data = csv.DictReader(csvfile, delimiter=',')\n",
    "    for row in data:\n",
    "        if row['Age']=='':\n",
    "            row['Age']='0'\n",
    "        TPID.append(int(row['PassengerId']))\n",
    "        TIData.append([int(row['Pclass'])\n",
    "                      ,row['Sex'],float(row['Age']),int(row['SibSp']),int(row['Parch']),row['Embarked']])"
   ]
  },
  {
   "cell_type": "code",
   "execution_count": 145,
   "metadata": {
    "collapsed": true
   },
   "outputs": [],
   "source": [
    "for datum in TIData:\n",
    "    if datum[1]=='male':\n",
    "        datum[1]=0\n",
    "    if datum[1]=='female':\n",
    "        datum[1]=1        \n",
    "    if datum[5]=='S':\n",
    "        datum[5]=0\n",
    "    if datum[5]=='C':\n",
    "        datum[5]=1\n",
    "    if datum[5]=='Q':\n",
    "        datum[5]=2\n",
    "    if datum[5]=='':\n",
    "        datum[5]=4"
   ]
  },
  {
   "cell_type": "code",
   "execution_count": 146,
   "metadata": {},
   "outputs": [
    {
     "name": "stdout",
     "output_type": "stream",
     "text": [
      "<class 'list'>\n",
      "<class 'numpy.ndarray'>\n"
     ]
    }
   ],
   "source": [
    "print(type(TIData))\n",
    "import numpy as np\n",
    "TIData = np.array(TIData)\n",
    "print(type(TIData))"
   ]
  },
  {
   "cell_type": "code",
   "execution_count": 139,
   "metadata": {},
   "outputs": [
    {
     "name": "stdout",
     "output_type": "stream",
     "text": [
      "[[ 3.   0.  34.5  0.   0.   2. ]\n",
      " [ 3.   1.  47.   1.   0.   0. ]\n",
      " [ 2.   0.  62.   0.   0.   2. ]\n",
      " ...\n",
      " [ 3.   0.  38.5  0.   0.   0. ]\n",
      " [ 3.   0.   0.   0.   0.   0. ]\n",
      " [ 3.   0.   0.   1.   1.   1. ]]\n"
     ]
    }
   ],
   "source": [
    "print(TIData)"
   ]
  },
  {
   "cell_type": "code",
   "execution_count": 147,
   "metadata": {
    "collapsed": true
   },
   "outputs": [],
   "source": [
    "TY_predict=clf.predict(TIData)"
   ]
  },
  {
   "cell_type": "code",
   "execution_count": 148,
   "metadata": {},
   "outputs": [
    {
     "name": "stdout",
     "output_type": "stream",
     "text": [
      "['0' '0' '0' '0' '1' '0' '1' '0' '1' '0']\n"
     ]
    }
   ],
   "source": [
    "print(TY_predict[:10])\n"
   ]
  },
  {
   "cell_type": "code",
   "execution_count": 149,
   "metadata": {
    "collapsed": true
   },
   "outputs": [],
   "source": [
    "import csv\n",
    "\n",
    "with open('data/gender_submission.csv', 'w') as csvfile:\n",
    "    fieldnames = ['PassengerId', 'Survived']\n",
    "    writer = csv.DictWriter(csvfile, fieldnames=fieldnames)\n",
    "    writer.writeheader()\n",
    "    count=0\n",
    "    for idx in TPID:\n",
    "        writer.writerow({'PassengerId': idx, 'Survived':TY_predict[count]})\n",
    "        count=count+1"
   ]
  },
  {
   "cell_type": "code",
   "execution_count": null,
   "metadata": {
    "collapsed": true
   },
   "outputs": [],
   "source": []
  }
 ],
 "metadata": {
  "kernelspec": {
   "display_name": "Python [conda env:py37]",
   "language": "python",
   "name": "conda-env-py37-py"
  },
  "language_info": {
   "codemirror_mode": {
    "name": "ipython",
    "version": 3
   },
   "file_extension": ".py",
   "mimetype": "text/x-python",
   "name": "python",
   "nbconvert_exporter": "python",
   "pygments_lexer": "ipython3",
   "version": "3.5.4"
  }
 },
 "nbformat": 4,
 "nbformat_minor": 2
}
