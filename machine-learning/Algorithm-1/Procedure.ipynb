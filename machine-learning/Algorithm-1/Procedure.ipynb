{
 "cells": [
  {
   "cell_type": "markdown",
   "metadata": {},
   "source": [
    "# Logic used to Solve\n",
    "\n",
    "## Handling categories\n",
    "- The categories were handled using one hot encoding\n",
    "\n",
    "## Separation of Dataset\n",
    "- Input data was separated into training and testing dataset\n",
    "\n",
    "## ML Algorithm used: Sklearn was used\n",
    "- Ridge regression \n",
    "- I also tested and explored other algorithms on the dataset. The algorihms included: linear regression, ridge regression with polynomial features of different degree, Kernel ridge regression with different kernel, and Lasso.\n",
    "- The accuracy of ridge regression was one of the best. Kernel ridge regression and Lasso also had very comparable accuracy, and I picked the simplest technique with best accuracy."
   ]
  },
  {
   "cell_type": "code",
   "execution_count": null,
   "metadata": {
    "collapsed": true
   },
   "outputs": [],
   "source": []
  }
 ],
 "metadata": {
  "kernelspec": {
   "display_name": "Python [conda env:py37]",
   "language": "python",
   "name": "conda-env-py37-py"
  },
  "language_info": {
   "codemirror_mode": {
    "name": "ipython",
    "version": 3
   },
   "file_extension": ".py",
   "mimetype": "text/x-python",
   "name": "python",
   "nbconvert_exporter": "python",
   "pygments_lexer": "ipython3",
   "version": "3.5.4"
  }
 },
 "nbformat": 4,
 "nbformat_minor": 2
}
