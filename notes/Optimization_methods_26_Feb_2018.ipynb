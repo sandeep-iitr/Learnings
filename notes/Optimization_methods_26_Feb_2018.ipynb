{
 "cells": [
  {
   "cell_type": "markdown",
   "metadata": {},
   "source": [
    "# Optimization Methods"
   ]
  },
  {
   "cell_type": "markdown",
   "metadata": {},
   "source": [
    "# 1. Gradient Descent\n",
    "- Follow the gradient\n",
    "- We make sure where we end up, the function value is decreased.\n",
    "- We don't take into account the: Curvature\n",
    "  - How fast the gradient change is happening, there comes the second derivative: Newton's Method"
   ]
  },
  {
   "cell_type": "markdown",
   "metadata": {},
   "source": [
    "- Step size: \n",
    "- $n_k=\\frac{1}{c+k}$\n",
    "- c is some constant, and k is the iteration number\n",
    "  - $\\sum_{k=1}^{N} n_k$ = +infinity"
   ]
  },
  {
   "cell_type": "markdown",
   "metadata": {},
   "source": [
    "## use the taylor series\n",
    "- $f(\\Theta + \\eta d)$ = $f(\\theta) - \\eta g^{'} g$\n",
    "- Pick step size as:\n",
    "  - $\\eta^{*}=arg_{min} f(\\theta_k + \\eta d)$\n"
   ]
  },
  {
   "cell_type": "markdown",
   "metadata": {},
   "source": [
    "## Steepest Descent method"
   ]
  },
  {
   "cell_type": "markdown",
   "metadata": {},
   "source": [
    "- when $d=-g$"
   ]
  },
  {
   "cell_type": "markdown",
   "metadata": {},
   "source": [
    "### $\\frac{d \\theta(n)}{d \\eta} = f(\\theta_k + \\eta d_k)^T d_k$\n",
    "### $f(\\theta_k + \\eta d_k)^T d_k = 0 $"
   ]
  },
  {
   "cell_type": "markdown",
   "metadata": {},
   "source": [
    "# 2. Newton's Method"
   ]
  },
  {
   "cell_type": "markdown",
   "metadata": {},
   "source": [
    "- From second order taylor series expansion around $f$"
   ]
  },
  {
   "cell_type": "markdown",
   "metadata": {},
   "source": [
    "- $f(\\theta) = f(\\theta_k) + g_k^T (\\theta - \\theta_k) + \\frac{1}{2} (\\theta - \\theta_k)^T H_k (\\theta - \\theta_k)$\n",
    "  - $H_k = \\frac{\\partial^2 f(\\theta)}{\\partial \\theta^2}$"
   ]
  },
  {
   "cell_type": "code",
   "execution_count": null,
   "metadata": {
    "collapsed": true
   },
   "outputs": [],
   "source": []
  }
 ],
 "metadata": {
  "kernelspec": {
   "display_name": "Python [conda env:py37]",
   "language": "python",
   "name": "conda-env-py37-py"
  },
  "language_info": {
   "codemirror_mode": {
    "name": "ipython",
    "version": 3
   },
   "file_extension": ".py",
   "mimetype": "text/x-python",
   "name": "python",
   "nbconvert_exporter": "python",
   "pygments_lexer": "ipython3",
   "version": "3.5.4"
  }
 },
 "nbformat": 4,
 "nbformat_minor": 2
}
